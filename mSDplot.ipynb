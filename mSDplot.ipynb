{
 "cells": [
  {
   "cell_type": "code",
   "execution_count": 1,
   "metadata": {},
   "outputs": [
    {
     "name": "stdout",
     "output_type": "stream",
     "text": [
      "['outparquet', '.DS_Store', 'LICENSE', 'requirements.txt', 'ZJets.ipynb', 'pyproject.toml', 'README.md', '.gitignore', 'print_parquet.py', 'outfiles', '.git', 'data', 'mSDplot.ipynb', 'src']\n"
     ]
    }
   ],
   "source": [
    "import sys\n",
    "sys.path.append('/Users/gbibim/Here/hpt')\n",
    "\n",
    "# List all modules and packages available at this path\n",
    "import os\n",
    "print(os.listdir('/Users/gbibim/Here/hpt'))\n"
   ]
  },
  {
   "cell_type": "code",
   "execution_count": 94,
   "metadata": {},
   "outputs": [],
   "source": [
    "\n",
    "from hpt import utils\n",
    "\n",
    "#import mplhep as hep\n",
    "import matplotlib.ticker as mticker\n",
    "import matplotlib.pyplot as plt\n",
    "from matplotlib.lines import Line2D\n",
    "import mplhep as hep\n",
    "\n",
    "import hist\n",
    "\n",
    "formatter = mticker.ScalarFormatter(useMathText=True)\n",
    "formatter.set_powerlimits((-3, 3))\n",
    "plt.rcParams.update({\"font.size\": 12})\n",
    "plt.rcParams[\"lines.linewidth\"] = 2\n",
    "plt.rcParams[\"grid.color\"] = \"#CCCCCC\"\n",
    "plt.rcParams[\"grid.linewidth\"] = 0.5\n",
    "plt.rcParams[\"figure.edgecolor\"] = \"none\""
   ]
  },
  {
   "cell_type": "code",
   "execution_count": 3,
   "metadata": {},
   "outputs": [],
   "source": [
    "# automatically reloads imported files on edits\n",
    "%load_ext autoreload\n",
    "%autoreload 2"
   ]
  },
  {
   "cell_type": "code",
   "execution_count": 21,
   "metadata": {},
   "outputs": [
    {
     "data": {
      "text/plain": [
       "MultiIndex([(                                       'ak8FatJetEta', 0),\n",
       "            (                                       'ak8FatJetEta', 1),\n",
       "            (                                       'ak8FatJetPhi', 0),\n",
       "            (                                       'ak8FatJetPhi', 1),\n",
       "            (                                      'ak8FatJetMass', 0),\n",
       "            (                                      'ak8FatJetMass', 1),\n",
       "            (                                        'ak8FatJetPt', 0),\n",
       "            (                                        'ak8FatJetPt', 1),\n",
       "            (                                 'ak8FatJetmsoftdrop', 0),\n",
       "            (                                 'ak8FatJetmsoftdrop', 1),\n",
       "            (                                  'ak8FatJetPNetTXbb', 0),\n",
       "            (                                  'ak8FatJetPNetTXbb', 1),\n",
       "            (                                  'ak8FatJetPNetTXjj', 0),\n",
       "            (                                  'ak8FatJetPNetTXjj', 1),\n",
       "            (                                   'ak8FatJetPNetQCD', 0),\n",
       "            (                                   'ak8FatJetPNetQCD', 1),\n",
       "            (                                'ak8FatJetPNetQCD1HF', 0),\n",
       "            (                                'ak8FatJetPNetQCD1HF', 1),\n",
       "            (                                'ak8FatJetPNetQCD2HF', 0),\n",
       "            (                                'ak8FatJetPNetQCD2HF', 1),\n",
       "            (                                'ak8FatJetPNetQCD0HF', 0),\n",
       "            (                                'ak8FatJetPNetQCD0HF', 1),\n",
       "            (                                  'ak8FatJetPNetMass', 0),\n",
       "            (                                  'ak8FatJetPNetMass', 1),\n",
       "            (                               'ak8FatJetPNetMassRaw', 0),\n",
       "            (                               'ak8FatJetPNetMassRaw', 1),\n",
       "            (                              'ak8FatJetTau2OverTau1', 0),\n",
       "            (                              'ak8FatJetTau2OverTau1', 1),\n",
       "            (                              'ak8FatJetTau3OverTau2', 0),\n",
       "            (                              'ak8FatJetTau3OverTau2', 1),\n",
       "            (                                 'ak8FatJetrawFactor', 0),\n",
       "            (                                 'ak8FatJetrawFactor', 1),\n",
       "            ('QuadPFJet70_50_40_35_PFBTagParticleNet_2BTagSum0p65', 0),\n",
       "            (                                           'PFHT1050', 0),\n",
       "            (  'AK8PFJet230_SoftDropMass40_PFAK8ParticleNetBB0p35', 0),\n",
       "            (  'AK8PFJet250_SoftDropMass40_PFAK8ParticleNetBB0p35', 0),\n",
       "            (  'AK8PFJet275_SoftDropMass40_PFAK8ParticleNetBB0p35', 0),\n",
       "            (                         'AK8PFJet230_SoftDropMass40', 0),\n",
       "            (                         'AK8PFJet425_SoftDropMass40', 0),\n",
       "            (                         'AK8PFJet400_SoftDropMass40', 0),\n",
       "            (                         'AK8DiPFJet250_250_MassSD50', 0),\n",
       "            (                         'AK8DiPFJet260_260_MassSD30', 0),\n",
       "            (                               'AK8PFJet420_MassSD30', 0),\n",
       "            (              'AK8PFJet230_SoftDropMass40_PNetBB0p06', 0),\n",
       "            (              'AK8PFJet230_SoftDropMass40_PNetBB0p10', 0),\n",
       "            (              'AK8PFJet250_SoftDropMass40_PNetBB0p06', 0),\n",
       "            (                                             'weight', 0),\n",
       "            (                                      'weight_noxsec', 0)],\n",
       "           )"
      ]
     },
     "execution_count": 21,
     "metadata": {},
     "output_type": "execute_result"
    }
   ],
   "source": [
    "import pandas as pd\n",
    "\n",
    "# Replace 'your_file.parquet' with the path to your Parquet file\n",
    "df = pd.read_parquet('/Users/gbibim/Here/genZ/data/2023/ZZ/parquet/out_0.parquet')\n",
    "df.columns"
   ]
  },
  {
   "cell_type": "code",
   "execution_count": 46,
   "metadata": {},
   "outputs": [],
   "source": [
    "# Handling the directories\n",
    "\n",
    "MAIN_DIR = \"/Users/gbibim/Here/genZ/\"\n",
    "dir_name = \"data\"  # data for older samples new for the files with lhe variables\n",
    "path_to_dir = f\"{MAIN_DIR}/{dir_name}/\"\n",
    "year = \"2023\"  "
   ]
  },
  {
   "cell_type": "code",
   "execution_count": 195,
   "metadata": {},
   "outputs": [],
   "source": [
    "# Define the samples stucture\n",
    "samples = {\n",
    "    \"data\": {\n",
    "        \"JetMET_Run2023Cv1\",\n",
    "        \"JetMET_Run2023Cv2\",\n",
    "        \"JetMET_Run2023Cv3\",\n",
    "        \"JetMET_Run2023Cv4\",\n",
    "    },\n",
    "    \"Diboson\": {\n",
    "        \"ZZ\",\n",
    "        \"WZ\",\n",
    "        \"WW\",\n",
    "        \"WWto4Q\",       \n",
    "    },\n",
    "    \"TT\": {\n",
    "        \"TTto4Q\",\n",
    "        \"TTto2L2Nu\",\n",
    "        \"TTtoLNu2Q\",\n",
    "    },\n",
    "    \"Zto2QNLO\": {\n",
    "        \"Zto2Q-2Jets_PTQQ-100to200_1J\",\n",
    "        \"Zto2Q-2Jets_PTQQ-100to200_2J\",\n",
    "        \"Zto2Q-2Jets_PTQQ-200to400_1J\",\n",
    "        \"Zto2Q-2Jets_PTQQ-200to400_2J\",\n",
    "        \"Zto2Q-2Jets_PTQQ-400to600_1J\",\n",
    "        \"Zto2Q-2Jets_PTQQ-400to600_2J\",\n",
    "        \"Zto2Q-2Jets_PTQQ-600_1J\",\n",
    "        \"Zto2Q-2Jets_PTQQ-600_2J\",\n",
    "    },\n",
    "    \"Wto2QNLO\": {\n",
    "        \"Wto2Q-2Jets_PTQQ-100to200_1J\",\n",
    "        \"Wto2Q-2Jets_PTQQ-100to200_2J\",\n",
    "        \"Wto2Q-2Jets_PTQQ-200to400_1J\",\n",
    "        \"Wto2Q-2Jets_PTQQ-200to400_2J\",\n",
    "        \"Wto2Q-2Jets_PTQQ-400to600_1J\",\n",
    "        \"Wto2Q-2Jets_PTQQ-400to600_2J\",\n",
    "        \"Wto2Q-2Jets_PTQQ-600_1J\",\n",
    "        \"Wto2Q-2Jets_PTQQ-600_2J\",\n",
    "    },\n",
    "    \"QCD\": {\n",
    "        \"QCD_HT-40to70\",\n",
    "        \"QCD_HT-70to100\",\n",
    "        \"QCD_HT-100to200\",\n",
    "        \"QCD_HT-200to400\",\n",
    "        \"QCD_HT-400to600\",\n",
    "        \"QCD_HT-600to800\",\n",
    "        \"QCD_HT-800to1000\",\n",
    "        \"QCD_HT-1000to1200\",\n",
    "        \"QCD_HT-1200to1500\",\n",
    "        \"QCD_HT-1500to2000\",\n",
    "    }\n",
    "\n",
    "    \n",
    "}"
   ]
  },
  {
   "cell_type": "code",
   "execution_count": 196,
   "metadata": {},
   "outputs": [],
   "source": [
    "# Dir dict and columns to be loaded\n",
    "\n",
    "dirs = {path_to_dir: samples}\n",
    "\n",
    "load_columns = [\n",
    "    (\"weight\", 1),\n",
    "    (\"ak8FatJetmsoftdrop\", 2),\n",
    "    #(\"ak8FatJetPNetMass\", 2),\n",
    "    (\"ak8FatJetPNetTXbb\", 2),\n",
    "    (\"ak8FatJetPNetTXjj\", 2),\n",
    "]"
   ]
  },
  {
   "cell_type": "code",
   "execution_count": 197,
   "metadata": {},
   "outputs": [
    {
     "name": "stdout",
     "output_type": "stream",
     "text": [
      "sample_name JetMET_Run2023Cv1\n",
      "Loading JetMET_Run2023Cv1\n",
      "Loaded JetMET_Run2023Cv1                                 : 23051745 entries\n",
      "sample_name JetMET_Run2023Cv2\n",
      "Loading JetMET_Run2023Cv2\n",
      "Loaded JetMET_Run2023Cv2                                 : 6896268 entries\n",
      "sample_name JetMET_Run2023Cv4\n",
      "Loading JetMET_Run2023Cv4\n",
      "Loaded JetMET_Run2023Cv4                                 : 48193191 entries\n",
      "sample_name JetMET_Run2023Cv3\n",
      "Loading JetMET_Run2023Cv3\n",
      "Loaded JetMET_Run2023Cv3                                 : 7514289 entries\n",
      "sample_name WW\n",
      "Loading WWto4Q\n",
      "Loaded WWto4Q                                            : 734289 entries\n",
      "Loading WW\n",
      "Loaded WW                                                : 187939 entries\n",
      "sample_name WZ\n",
      "Loading WZ\n",
      "Loaded WZ                                                : 130647 entries\n",
      "sample_name ZZ\n",
      "Loading ZZ\n",
      "Loaded ZZ                                                : 18883 entries\n",
      "sample_name WWto4Q\n",
      "Loading WWto4Q\n",
      "Loaded WWto4Q                                            : 734289 entries\n",
      "sample_name TTto2L2Nu\n",
      "Loading TTto2L2Nu\n",
      "Loaded TTto2L2Nu                                         : 293092 entries\n",
      "sample_name TTto4Q\n",
      "Loading TTto4Q\n",
      "Loaded TTto4Q                                            : 5044340 entries\n",
      "sample_name TTtoLNu2Q\n",
      "Loading TTtoLNu2Q\n",
      "Loaded TTtoLNu2Q                                         : 2908975 entries\n",
      "sample_name Zto2Q-2Jets_PTQQ-200to400_1J\n",
      "Loading Zto2Q-2Jets_PTQQ-200to400_1J\n",
      "Loaded Zto2Q-2Jets_PTQQ-200to400_1J                      : 1385275 entries\n",
      "sample_name Zto2Q-2Jets_PTQQ-400to600_1J\n",
      "Loading Zto2Q-2Jets_PTQQ-400to600_1J\n",
      "Loaded Zto2Q-2Jets_PTQQ-400to600_1J                      : 955701 entries\n",
      "sample_name Zto2Q-2Jets_PTQQ-200to400_2J\n",
      "Loading Zto2Q-2Jets_PTQQ-200to400_2J\n",
      "Loaded Zto2Q-2Jets_PTQQ-200to400_2J                      : 5011400 entries\n",
      "sample_name Zto2Q-2Jets_PTQQ-400to600_2J\n",
      "Loading Zto2Q-2Jets_PTQQ-400to600_2J\n",
      "Loaded Zto2Q-2Jets_PTQQ-400to600_2J                      : 1321004 entries\n",
      "sample_name Zto2Q-2Jets_PTQQ-600_2J\n",
      "Loading Zto2Q-2Jets_PTQQ-600_2J\n",
      "Loaded Zto2Q-2Jets_PTQQ-600_2J                           : 1016182 entries\n",
      "sample_name Zto2Q-2Jets_PTQQ-100to200_1J\n",
      "Loading Zto2Q-2Jets_PTQQ-100to200_1J\n",
      "Loaded Zto2Q-2Jets_PTQQ-100to200_1J                      : 1002 entries\n",
      "sample_name Zto2Q-2Jets_PTQQ-600_1J\n",
      "Loading Zto2Q-2Jets_PTQQ-600_1J\n",
      "Loaded Zto2Q-2Jets_PTQQ-600_1J                           : 1035415 entries\n",
      "sample_name Zto2Q-2Jets_PTQQ-100to200_2J\n",
      "Loading Zto2Q-2Jets_PTQQ-100to200_2J\n",
      "Loaded Zto2Q-2Jets_PTQQ-100to200_2J                      : 255855 entries\n",
      "sample_name Wto2Q-2Jets_PTQQ-400to600_1J\n",
      "Loading Wto2Q-2Jets_PTQQ-400to600_1J\n",
      "Loaded Wto2Q-2Jets_PTQQ-400to600_1J                      : 899422 entries\n",
      "sample_name Wto2Q-2Jets_PTQQ-600_1J\n",
      "Loading Wto2Q-2Jets_PTQQ-600_1J\n",
      "Loaded Wto2Q-2Jets_PTQQ-600_1J                           : 953172 entries\n",
      "sample_name Wto2Q-2Jets_PTQQ-400to600_2J\n",
      "Loading Wto2Q-2Jets_PTQQ-400to600_2J\n",
      "Loaded Wto2Q-2Jets_PTQQ-400to600_2J                      : 3074382 entries\n",
      "sample_name Wto2Q-2Jets_PTQQ-200to400_1J\n",
      "Loading Wto2Q-2Jets_PTQQ-200to400_1J\n",
      "Loaded Wto2Q-2Jets_PTQQ-200to400_1J                      : 3248288 entries\n",
      "sample_name Wto2Q-2Jets_PTQQ-200to400_2J\n",
      "Loading Wto2Q-2Jets_PTQQ-200to400_2J\n",
      "Loaded Wto2Q-2Jets_PTQQ-200to400_2J                      : 11699737 entries\n",
      "sample_name Wto2Q-2Jets_PTQQ-600_2J\n",
      "Loading Wto2Q-2Jets_PTQQ-600_2J\n",
      "Loaded Wto2Q-2Jets_PTQQ-600_2J                           : 968108 entries\n",
      "sample_name Wto2Q-2Jets_PTQQ-100to200_2J\n",
      "Loading Wto2Q-2Jets_PTQQ-100to200_2J\n",
      "Loaded Wto2Q-2Jets_PTQQ-100to200_2J                      : 1354921 entries\n",
      "sample_name Wto2Q-2Jets_PTQQ-100to200_1J\n",
      "Loading Wto2Q-2Jets_PTQQ-100to200_1J\n",
      "Loaded Wto2Q-2Jets_PTQQ-100to200_1J                      : 4999 entries\n",
      "sample_name QCD_HT-40to70\n",
      "Loading QCD_HT-40to70\n",
      "Loaded QCD_HT-40to70                                     : 272 entries\n",
      "sample_name QCD_HT-1500to2000\n",
      "Loading QCD_HT-1500to2000\n",
      "Loaded QCD_HT-1500to2000                                 : 39022615 entries\n",
      "sample_name QCD_HT-1200to1500\n",
      "Loading QCD_HT-1200to1500\n",
      "Loaded QCD_HT-1200to1500                                 : 39487417 entries\n",
      "sample_name QCD_HT-100to200\n",
      "Loading QCD_HT-100to200\n",
      "Loaded QCD_HT-100to200                                   : 330 entries\n",
      "sample_name QCD_HT-1000to1200\n",
      "Loading QCD_HT-1000to1200\n",
      "Loaded QCD_HT-1000to1200                                 : 30698906 entries\n",
      "sample_name QCD_HT-400to600\n",
      "Loading QCD_HT-400to600\n",
      "Loaded QCD_HT-400to600                                   : 516550 entries\n",
      "sample_name QCD_HT-200to400\n",
      "Loading QCD_HT-200to400\n",
      "Loaded QCD_HT-200to400                                   : 562 entries\n",
      "sample_name QCD_HT-800to1000\n",
      "Loading QCD_HT-800to1000\n",
      "Loaded QCD_HT-800to1000                                  : 32713077 entries\n",
      "sample_name QCD_HT-600to800\n",
      "Loading QCD_HT-600to800\n",
      "Loaded QCD_HT-600to800                                   : 16302578 entries\n",
      "sample_name QCD_HT-70to100\n",
      "Loading QCD_HT-70to100\n",
      "Loaded QCD_HT-70to100                                    : 336 entries\n"
     ]
    }
   ],
   "source": [
    "events_dict = {}\n",
    "\n",
    "# Loop through Zto2Q and ZtoNuNu\n",
    "for process, sample_list in samples.items():\n",
    "    events_dict[process] = {}\n",
    "\n",
    "    for input_dir, dirs_samples in dirs.items():\n",
    "        events_dict[process] = {\n",
    "            **events_dict[process],\n",
    "            **utils.load_samples(\n",
    "                input_dir,\n",
    "                process,\n",
    "                sample_list,\n",
    "                year,\n",
    "                columns=utils.format_columns(load_columns),\n",
    "            ),\n",
    "        }"
   ]
  },
  {
   "cell_type": "code",
   "execution_count": 154,
   "metadata": {},
   "outputs": [
    {
     "data": {
      "text/html": [
       "<div>\n",
       "<style scoped>\n",
       "    .dataframe tbody tr th:only-of-type {\n",
       "        vertical-align: middle;\n",
       "    }\n",
       "\n",
       "    .dataframe tbody tr th {\n",
       "        vertical-align: top;\n",
       "    }\n",
       "\n",
       "    .dataframe thead th {\n",
       "        text-align: right;\n",
       "    }\n",
       "</style>\n",
       "<table border=\"1\" class=\"dataframe\">\n",
       "  <thead>\n",
       "    <tr style=\"text-align: right;\">\n",
       "      <th></th>\n",
       "      <th>0</th>\n",
       "      <th>1</th>\n",
       "    </tr>\n",
       "  </thead>\n",
       "  <tbody>\n",
       "    <tr>\n",
       "      <th>0</th>\n",
       "      <td>0.082092</td>\n",
       "      <td>0.003832</td>\n",
       "    </tr>\n",
       "    <tr>\n",
       "      <th>1</th>\n",
       "      <td>0.003075</td>\n",
       "      <td>0.039154</td>\n",
       "    </tr>\n",
       "    <tr>\n",
       "      <th>2</th>\n",
       "      <td>0.465820</td>\n",
       "      <td>0.473145</td>\n",
       "    </tr>\n",
       "    <tr>\n",
       "      <th>3</th>\n",
       "      <td>0.348145</td>\n",
       "      <td>0.118591</td>\n",
       "    </tr>\n",
       "    <tr>\n",
       "      <th>4</th>\n",
       "      <td>0.823242</td>\n",
       "      <td>0.753906</td>\n",
       "    </tr>\n",
       "    <tr>\n",
       "      <th>...</th>\n",
       "      <td>...</td>\n",
       "      <td>...</td>\n",
       "    </tr>\n",
       "    <tr>\n",
       "      <th>1035410</th>\n",
       "      <td>0.008240</td>\n",
       "      <td>0.991211</td>\n",
       "    </tr>\n",
       "    <tr>\n",
       "      <th>1035411</th>\n",
       "      <td>0.996094</td>\n",
       "      <td>-99999.000000</td>\n",
       "    </tr>\n",
       "    <tr>\n",
       "      <th>1035412</th>\n",
       "      <td>0.000444</td>\n",
       "      <td>0.000343</td>\n",
       "    </tr>\n",
       "    <tr>\n",
       "      <th>1035413</th>\n",
       "      <td>0.035004</td>\n",
       "      <td>0.000299</td>\n",
       "    </tr>\n",
       "    <tr>\n",
       "      <th>1035414</th>\n",
       "      <td>0.121094</td>\n",
       "      <td>-99999.000000</td>\n",
       "    </tr>\n",
       "  </tbody>\n",
       "</table>\n",
       "<p>1035415 rows × 2 columns</p>\n",
       "</div>"
      ],
      "text/plain": [
       "                0             1\n",
       "0        0.082092      0.003832\n",
       "1        0.003075      0.039154\n",
       "2        0.465820      0.473145\n",
       "3        0.348145      0.118591\n",
       "4        0.823242      0.753906\n",
       "...           ...           ...\n",
       "1035410  0.008240      0.991211\n",
       "1035411  0.996094 -99999.000000\n",
       "1035412  0.000444      0.000343\n",
       "1035413  0.035004      0.000299\n",
       "1035414  0.121094 -99999.000000\n",
       "\n",
       "[1035415 rows x 2 columns]"
      ]
     },
     "execution_count": 154,
     "metadata": {},
     "output_type": "execute_result"
    }
   ],
   "source": [
    "events_dict[\"Zto2QNLO\"][\"Zto2Q-2Jets_PTQQ-600_1J\"][\"ak8FatJetPNetTXbb\"]"
   ]
  },
  {
   "cell_type": "code",
   "execution_count": 119,
   "metadata": {},
   "outputs": [
    {
     "data": {
      "text/plain": [
       "1527.500362748481"
      ]
     },
     "execution_count": 119,
     "metadata": {},
     "output_type": "execute_result"
    }
   ],
   "source": [
    "events_dict[\"Zto2QNLO\"][\"Zto2Q-2Jets_PTQQ-600_1J\"][\"finalWeight\"].sum()"
   ]
  },
  {
   "cell_type": "code",
   "execution_count": 120,
   "metadata": {},
   "outputs": [
    {
     "data": {
      "text/plain": [
       "23051745.0"
      ]
     },
     "execution_count": 120,
     "metadata": {},
     "output_type": "execute_result"
    }
   ],
   "source": [
    "events_dict[\"data\"][\"JetMET_Run2023Cv1\"][\"finalWeight\"].sum()"
   ]
  },
  {
   "cell_type": "code",
   "execution_count": 214,
   "metadata": {},
   "outputs": [],
   "source": [
    "sample_axis = hist.axis.StrCategory([], name=\"name\", growth=True)  #samples\n",
    "msd_axis = hist.axis.Regular(80, 40, 120, name=\"msd\", label=\"mSD [GeV]\")\n",
    "proc_axis = hist.axis.StrCategory([], name=\"process\", growth=True)  #processes"
   ]
  },
  {
   "cell_type": "code",
   "execution_count": 218,
   "metadata": {},
   "outputs": [
    {
     "name": "stdout",
     "output_type": "stream",
     "text": [
      "data\n",
      "Diboson\n",
      "TT\n",
      "Zto2QNLO\n",
      "Wto2QNLO\n",
      "QCD\n"
     ]
    }
   ],
   "source": [
    "import correctionlib\n",
    "from pathlib import Path\n",
    "import math\n",
    "import numpy as np\n",
    "\n",
    "h_msd = hist.Hist(msd_axis, proc_axis, sample_axis)\n",
    "\n",
    "for process, events in events_dict.items():\n",
    "    print (process)\n",
    "    for sample in events:\n",
    "        weight = events[sample][\"finalWeight\"]\n",
    "        msd = events[sample][\"ak8FatJetmsoftdrop\"][0]\n",
    "        Pnet_xbb = events[sample][\"ak8FatJetPNetTXbb\"][0]\n",
    "        Pnet_xjj = events[sample][\"ak8FatJetPNetTXjj\"][0]\n",
    "\n",
    "        selection = (Pnet_xjj > 0.7) & ((msd > 40) & (msd <100))\n",
    "        \n",
    "        h_msd.fill(msd[selection], process, sample, weight=weight[selection])\n"
   ]
  },
  {
   "cell_type": "code",
   "execution_count": 207,
   "metadata": {},
   "outputs": [
    {
     "data": {
      "text/plain": [
       "(Regular(80, 0, 200, name='msd', label='mSD [GeV]'),\n",
       " StrCategory(['data', 'Diboson', 'TT', 'Zto2QNLO', 'Wto2QNLO', 'QCD'], growth=True, name='process'),\n",
       " StrCategory(['JetMET_Run2023Cv1', 'JetMET_Run2023Cv2', 'JetMET_Run2023Cv4', 'JetMET_Run2023Cv3', 'WW', 'WZ', 'ZZ', 'WWto4Q', 'TTto2L2Nu', 'TTto4Q', 'TTtoLNu2Q', 'Zto2Q-2Jets_PTQQ-200to400_1J', 'Zto2Q-2Jets_PTQQ-400to600_1J', 'Zto2Q-2Jets_PTQQ-200to400_2J', 'Zto2Q-2Jets_PTQQ-400to600_2J', 'Zto2Q-2Jets_PTQQ-600_2J', 'Zto2Q-2Jets_PTQQ-100to200_1J', 'Zto2Q-2Jets_PTQQ-600_1J', 'Zto2Q-2Jets_PTQQ-100to200_2J', 'Wto2Q-2Jets_PTQQ-400to600_1J', 'Wto2Q-2Jets_PTQQ-600_1J', 'Wto2Q-2Jets_PTQQ-400to600_2J', 'Wto2Q-2Jets_PTQQ-200to400_1J', 'Wto2Q-2Jets_PTQQ-200to400_2J', 'Wto2Q-2Jets_PTQQ-600_2J', 'Wto2Q-2Jets_PTQQ-100to200_2J', 'Wto2Q-2Jets_PTQQ-100to200_1J', 'QCD_HT-40to70', 'QCD_HT-1500to2000', 'QCD_HT-1200to1500', 'QCD_HT-1000to1200', 'QCD_HT-400to600', 'QCD_HT-200to400', 'QCD_HT-800to1000', 'QCD_HT-600to800'], growth=True, name='name'))"
      ]
     },
     "execution_count": 207,
     "metadata": {},
     "output_type": "execute_result"
    }
   ],
   "source": [
    "h_msd.axes"
   ]
  },
  {
   "cell_type": "code",
   "execution_count": 101,
   "metadata": {},
   "outputs": [],
   "source": [
    "def plot_h(hists, legend, density, title):\n",
    "    fig, ax = plt.subplots(1, 1, figsize=(6, 5))\n",
    "\n",
    "    hep.histplot(hists, ax=ax, label=legend, density=density)\n",
    "    ax.legend(fontsize=8)\n",
    "    ax.set_yscale(\"log\")\n",
    "    if density:\n",
    "        ax.set_ylabel(\"Density\")\n",
    "    else:\n",
    "        ax.set_ylabel(\"Events\")\n",
    "    ax.set_title(title)\n",
    "    ax.xaxis.grid(True, which=\"major\")\n",
    "    ax.yaxis.grid(True, which=\"major\")"
   ]
  },
  {
   "cell_type": "code",
   "execution_count": 222,
   "metadata": {},
   "outputs": [
    {
     "name": "stdout",
     "output_type": "stream",
     "text": [
      "KeyError: 'QCD_HT-40to70' not found in the histogram axes.\n",
      "KeyError: 'QCD_HT-100to200' not found in the histogram axes.\n",
      "KeyError: 'QCD_HT-70to100' not found in the histogram axes.\n"
     ]
    }
   ],
   "source": [
    "# Histos dictionary\n",
    "\n",
    "\n",
    "hists = {}\n",
    "individual_hists = {}\n",
    "#legend = {}\n",
    "lumi = 17650/1000\n",
    "energy = \"13.6 TeV\"\n",
    "for process, sample_list in events_dict.items():\n",
    "    #zto = \"Zto2Q\" or \"Zto2Nu\"\n",
    "    individual_hists[process] = {}\n",
    "    #hists[process] = sum([h for h in h_msd[{\"name\": sample}]\n",
    "    for sample, events in sample_list.items():\n",
    "        try:\n",
    "            individual_hists[process][sample] = h_msd[{\"process\": process, \"name\": sample}]\n",
    "        except:\n",
    "            print(f\"KeyError: '{sample}' not found in the histogram axes.\")\n",
    "            continue\n",
    "            \n",
    "    hists[process]= sum([h for h in individual_hists[process].values()])\n",
    "    #legend[process] = process\n",
    "        \n",
    "\n",
    "\n"
   ]
  },
  {
   "cell_type": "code",
   "execution_count": 201,
   "metadata": {},
   "outputs": [
    {
     "data": {
      "text/plain": [
       "{'data': Hist(Regular(80, 0, 200, name='msd', label='mSD [GeV]'), storage=Double()) # Sum: 1415164.0 (1462112.0 with flow),\n",
       " 'Diboson': Hist(Regular(80, 0, 200, name='msd', label='mSD [GeV]'), storage=Double()) # Sum: 2888.7990288230208 (2908.750876530312 with flow),\n",
       " 'TT': Hist(Regular(80, 0, 200, name='msd', label='mSD [GeV]'), storage=Double()) # Sum: 20177.78812550332 (20399.123913706073 with flow),\n",
       " 'Zto2QNLO': Hist(Regular(80, 0, 200, name='msd', label='mSD [GeV]'), storage=Double()) # Sum: 34554.90827124474 (35197.61254408912 with flow),\n",
       " 'Wto2QNLO': Hist(Regular(80, 0, 200, name='msd', label='mSD [GeV]'), storage=Double()) # Sum: 192044.81559983312 (195779.69251957515 with flow),\n",
       " 'QCD': Hist(Regular(80, 0, 200, name='msd', label='mSD [GeV]'), storage=Double()) # Sum: 1924048.7957115388 (1973266.9526972543 with flow)}"
      ]
     },
     "execution_count": 201,
     "metadata": {},
     "output_type": "execute_result"
    }
   ],
   "source": [
    "hists"
   ]
  },
  {
   "cell_type": "code",
   "execution_count": 223,
   "metadata": {},
   "outputs": [
    {
     "data": {
      "text/plain": [
       "[ErrorBarArtists(errorbar=<ErrorbarContainer object of 3 artists>)]"
      ]
     },
     "execution_count": 223,
     "metadata": {},
     "output_type": "execute_result"
    },
    {
     "data": {
      "image/png": "[encoded data removed]",
      "text/plain": [
       "<Figure size 1200x1200 with 2 Axes>"
      ]
     },
     "metadata": {},
     "output_type": "display_data"
    }
   ],
   "source": [
    "\n",
    "from hist.intervals import ratio_uncertainty\n",
    "\n",
    "h_z = hists[\"Zto2QNLO\"]\n",
    "h_w = hists[\"Wto2QNLO\"]\n",
    "h_qcd = hists[\"QCD\"]\n",
    "h_diboson = hists[\"Diboson\"]\n",
    "h_tt = hists[\"TT\"]\n",
    "\n",
    "h_data = hists[\"data\"]\n",
    "h = [h_z, h_w, h_qcd, h_diboson, h_tt]\n",
    "legends = [\"Z\", \"W\", \"QCD\", \"Diboson\", \"TT\"]\n",
    "#labels = [\"z\", \"w\"]\n",
    "\n",
    "fig, (ax, rax) = plt.subplots(\n",
    "            2,\n",
    "            1,\n",
    "            figsize=(12, 12),\n",
    "            gridspec_kw={\"height_ratios\": [3.5, 1], \"hspace\": 0.18},\n",
    "            sharex=True,\n",
    "        )\n",
    "# 1st panel\n",
    "ax.set_ylabel(\"Events\")\n",
    "\n",
    "#ax.set_yscale(\"log\")\n",
    "# plot MC\n",
    "hep.histplot(h, ax=ax, stack=True, sort=\"yield\", label=legends) ##h_qcd, h_diboson, h_tt\n",
    "# plot Data\n",
    "hep.histplot(h_data, ax=ax, histtype=\"errorbar\", color=\"black\")\n",
    "ax.legend()\n",
    "# 2nd panel\n",
    "bg_total = sum(h) ## , h_qcd, h_diboson, h_tt\n",
    "tot_val = bg_total.values()\n",
    "tot_val_zero_mask = tot_val == 0\n",
    "tot_val[tot_val_zero_mask] = 1\n",
    "data_val = h_data.values()\n",
    "data_val[tot_val_zero_mask] = 1\n",
    "yerr = ratio_uncertainty(data_val, tot_val, \"poisson\")\n",
    "yvalue = data_val / tot_val\n",
    "\n",
    "hep.histplot(yvalue, bg_total.axes[0].edges, yerr=yerr, ax=rax, histtype=\"errorbar\")"
   ]
  },
  {
   "cell_type": "code",
   "execution_count": 191,
   "metadata": {},
   "outputs": [
    {
     "data": {
      "text/plain": [
       "[ErrorBarArtists(errorbar=<ErrorbarContainer object of 3 artists>)]"
      ]
     },
     "execution_count": 191,
     "metadata": {},
     "output_type": "execute_result"
    },
    {
     "data": {
      "image/png": "[encoded data removed]",
      "text/plain": [
       "<Figure size 1200x1200 with 2 Axes>"
      ]
     },
     "metadata": {},
     "output_type": "display_data"
    }
   ],
   "source": [
    "\n",
    "from hist.intervals import ratio_uncertainty\n",
    "\n",
    "h_z = hists[\"Zto2QNLO\"]\n",
    "h_w = hists[\"Wto2QNLO\"]\n",
    "\n",
    "h_data = hists[\"data\"]\n",
    "labels = [\"z\", \"w\"]\n",
    "\n",
    "fig, (ax, rax) = plt.subplots(\n",
    "            2,\n",
    "            1,\n",
    "            figsize=(12, 12),\n",
    "            gridspec_kw={\"height_ratios\": [3.5, 1], \"hspace\": 0.18},\n",
    "            sharex=True,\n",
    "        )\n",
    "# 1st panel\n",
    "ax.set_ylabel(\"Events\")\n",
    "\n",
    "#ax.set_yscale(\"log\")\n",
    "# plot MC\n",
    "hep.histplot([h_z, h_w ], ax=ax, stack=True, sort=\"yield\", label=labels) ##h_qcd, h_diboson, h_tt\n",
    "# plot Data\n",
    "hep.histplot(h_data, ax=ax, histtype=\"errorbar\", color=\"black\")\n",
    "ax.legend()\n",
    "# 2nd panel\n",
    "bg_total = sum([h_z, h_w]) ## , h_qcd, h_diboson, h_tt\n",
    "tot_val = bg_total.values()\n",
    "tot_val_zero_mask = tot_val == 0\n",
    "tot_val[tot_val_zero_mask] = 1\n",
    "data_val = h_data.values()\n",
    "data_val[tot_val_zero_mask] = 1\n",
    "yerr = ratio_uncertainty(data_val, tot_val, \"poisson\")\n",
    "yvalue = data_val / tot_val\n",
    "\n",
    "hep.histplot(yvalue, bg_total.axes[0].edges, yerr=yerr, ax=rax, histtype=\"errorbar\")"
   ]
  },
  {
   "cell_type": "code",
   "execution_count": 142,
   "metadata": {},
   "outputs": [
    {
     "data": {
      "image/png": "[encoded data removed]",
      "text/plain": [
       "<Figure size 800x600 with 1 Axes>"
      ]
     },
     "metadata": {},
     "output_type": "display_data"
    }
   ],
   "source": [
    "fig, ax = plt.subplots(1, 1, figsize=(8, 6))\n",
    "hep.histplot(h_data, ax=ax, yerr=True, histtype=\"errorbar\", markersize=1, color=\"black\")\n",
    "ax.set_yscale(\"log\")"
   ]
  }
 ],
 "metadata": {
  "kernelspec": {
   "display_name": "Python 3",
   "language": "python",
   "name": "python3"
  },
  "language_info": {
   "codemirror_mode": {
    "name": "ipython",
    "version": 3
   },
   "file_extension": ".py",
   "mimetype": "text/x-python",
   "name": "python",
   "nbconvert_exporter": "python",
   "pygments_lexer": "ipython3",
   "version": "3.10.14"
  }
 },
 "nbformat": 4,
 "nbformat_minor": 2
}
